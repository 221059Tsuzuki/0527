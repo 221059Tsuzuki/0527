{
  "nbformat": 4,
  "nbformat_minor": 0,
  "metadata": {
    "colab": {
      "name": "2022-06-10-03.ipynb",
      "provenance": [],
      "authorship_tag": "ABX9TyPw/q/klB2YnDTO58GtttOk",
      "include_colab_link": true
    },
    "kernelspec": {
      "name": "python3",
      "display_name": "Python 3"
    },
    "language_info": {
      "name": "python"
    }
  },
  "cells": [
    {
      "cell_type": "markdown",
      "metadata": {
        "id": "view-in-github",
        "colab_type": "text"
      },
      "source": [
        "<a href=\"https://colab.research.google.com/github/221059Tsuzuki/0527/blob/main/2022_06_10_03.ipynb\" target=\"_parent\"><img src=\"https://colab.research.google.com/assets/colab-badge.svg\" alt=\"Open In Colab\"/></a>"
      ]
    },
    {
      "cell_type": "code",
      "execution_count": 9,
      "metadata": {
        "colab": {
          "base_uri": "https://localhost:8080/"
        },
        "id": "BdJ3BjDKmeeS",
        "outputId": "155e7b9c-bb13-4e3d-8b83-d3cd79d0b1db"
      },
      "outputs": [
        {
          "output_type": "stream",
          "name": "stdout",
          "text": [
            "7\n"
          ]
        }
      ],
      "source": [
        "email=\"s221059@toko.hosho.ac.jp\"\n",
        "num=email.find(\"@\")\n",
        "print(num)"
      ]
    },
    {
      "cell_type": "code",
      "source": [
        "adless=input(\"あなたのメールアドレスを入力してください\");\n",
        "a=email.find(\"@\")\n",
        "if 0<a:\n",
        "  print(\"あなたのメールアドレスは\"+email+\"ですね\");\n",
        "  print(\"あなたの番号は\"+email[1:7]+\"です\");\n",
        "else:\n",
        "  print(\"メールアドレスとして認識されませんでした\")  "
      ],
      "metadata": {
        "colab": {
          "base_uri": "https://localhost:8080/"
        },
        "id": "kOXnsVjnq1a2",
        "outputId": "62acad61-73c4-4f18-e17b-ba89bed95e48"
      },
      "execution_count": 10,
      "outputs": [
        {
          "output_type": "stream",
          "name": "stdout",
          "text": [
            "あなたのメールアドレスを入力してくださいs221059@toko.hosho.ac.jp\n",
            "あなたのメールアドレスはs221059@toko.hosho.ac.jpですね\n",
            "あなたの番号は221059です\n"
          ]
        }
      ]
    }
  ]
}